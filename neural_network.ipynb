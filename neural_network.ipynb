{
 "cells": [
  {
   "cell_type": "markdown",
   "metadata": {},
   "source": [
    "# Neural Network Project\n",
    "## Part 3: Artificial Neural Network"
   ]
  },
  {
   "cell_type": "code",
   "execution_count": 1,
   "metadata": {},
   "outputs": [],
   "source": [
    "import numpy as np\n",
    "import pandas as pd\n",
    "import matplotlib.pyplot as plt"
   ]
  },
  {
   "cell_type": "code",
   "execution_count": 2,
   "metadata": {},
   "outputs": [],
   "source": [
    "def read_dataset(path):\n",
    "    data = pd.read_csv(path, engine='python', sep=r',\\s*', na_values=['?'])\n",
    "    \n",
    "    data.dropna(inplace=True)\n",
    "    data.drop_duplicates(inplace=True)\n",
    "\n",
    "    # unnecessary columns\n",
    "    data.drop([\"fnlwgt\", \"education\"], axis=1, inplace=True)\n",
    "    \n",
    "    # outliers\n",
    "    data = data[data[\"capital-gain\"] != 9999]\n",
    "    \n",
    "    return data"
   ]
  },
  {
   "cell_type": "code",
   "execution_count": 3,
   "metadata": {},
   "outputs": [
    {
     "data": {
      "text/html": [
       "<div>\n",
       "<style scoped>\n",
       "    .dataframe tbody tr th:only-of-type {\n",
       "        vertical-align: middle;\n",
       "    }\n",
       "\n",
       "    .dataframe tbody tr th {\n",
       "        vertical-align: top;\n",
       "    }\n",
       "\n",
       "    .dataframe thead th {\n",
       "        text-align: right;\n",
       "    }\n",
       "</style>\n",
       "<table border=\"1\" class=\"dataframe\">\n",
       "  <thead>\n",
       "    <tr style=\"text-align: right;\">\n",
       "      <th></th>\n",
       "      <th>age</th>\n",
       "      <th>workclass</th>\n",
       "      <th>education-num</th>\n",
       "      <th>marital-status</th>\n",
       "      <th>occupation</th>\n",
       "      <th>relationship</th>\n",
       "      <th>race</th>\n",
       "      <th>sex</th>\n",
       "      <th>capital-gain</th>\n",
       "      <th>capital-loss</th>\n",
       "      <th>hours-per-week</th>\n",
       "      <th>native-country</th>\n",
       "      <th>income</th>\n",
       "    </tr>\n",
       "  </thead>\n",
       "  <tbody>\n",
       "    <tr>\n",
       "      <th>0</th>\n",
       "      <td>39</td>\n",
       "      <td>State-gov</td>\n",
       "      <td>13</td>\n",
       "      <td>Never-married</td>\n",
       "      <td>Adm-clerical</td>\n",
       "      <td>Not-in-family</td>\n",
       "      <td>White</td>\n",
       "      <td>Male</td>\n",
       "      <td>2174</td>\n",
       "      <td>0</td>\n",
       "      <td>40</td>\n",
       "      <td>United-States</td>\n",
       "      <td>&lt;=50K</td>\n",
       "    </tr>\n",
       "    <tr>\n",
       "      <th>1</th>\n",
       "      <td>50</td>\n",
       "      <td>Self-emp-not-inc</td>\n",
       "      <td>13</td>\n",
       "      <td>Married-civ-spouse</td>\n",
       "      <td>Exec-managerial</td>\n",
       "      <td>Husband</td>\n",
       "      <td>White</td>\n",
       "      <td>Male</td>\n",
       "      <td>0</td>\n",
       "      <td>0</td>\n",
       "      <td>13</td>\n",
       "      <td>United-States</td>\n",
       "      <td>&lt;=50K</td>\n",
       "    </tr>\n",
       "    <tr>\n",
       "      <th>2</th>\n",
       "      <td>38</td>\n",
       "      <td>Private</td>\n",
       "      <td>9</td>\n",
       "      <td>Divorced</td>\n",
       "      <td>Handlers-cleaners</td>\n",
       "      <td>Not-in-family</td>\n",
       "      <td>White</td>\n",
       "      <td>Male</td>\n",
       "      <td>0</td>\n",
       "      <td>0</td>\n",
       "      <td>40</td>\n",
       "      <td>United-States</td>\n",
       "      <td>&lt;=50K</td>\n",
       "    </tr>\n",
       "    <tr>\n",
       "      <th>3</th>\n",
       "      <td>53</td>\n",
       "      <td>Private</td>\n",
       "      <td>7</td>\n",
       "      <td>Married-civ-spouse</td>\n",
       "      <td>Handlers-cleaners</td>\n",
       "      <td>Husband</td>\n",
       "      <td>Black</td>\n",
       "      <td>Male</td>\n",
       "      <td>0</td>\n",
       "      <td>0</td>\n",
       "      <td>40</td>\n",
       "      <td>United-States</td>\n",
       "      <td>&lt;=50K</td>\n",
       "    </tr>\n",
       "    <tr>\n",
       "      <th>4</th>\n",
       "      <td>28</td>\n",
       "      <td>Private</td>\n",
       "      <td>13</td>\n",
       "      <td>Married-civ-spouse</td>\n",
       "      <td>Prof-specialty</td>\n",
       "      <td>Wife</td>\n",
       "      <td>Black</td>\n",
       "      <td>Female</td>\n",
       "      <td>0</td>\n",
       "      <td>0</td>\n",
       "      <td>40</td>\n",
       "      <td>Cuba</td>\n",
       "      <td>&lt;=50K</td>\n",
       "    </tr>\n",
       "  </tbody>\n",
       "</table>\n",
       "</div>"
      ],
      "text/plain": [
       "   age         workclass  education-num      marital-status  \\\n",
       "0   39         State-gov             13       Never-married   \n",
       "1   50  Self-emp-not-inc             13  Married-civ-spouse   \n",
       "2   38           Private              9            Divorced   \n",
       "3   53           Private              7  Married-civ-spouse   \n",
       "4   28           Private             13  Married-civ-spouse   \n",
       "\n",
       "          occupation   relationship   race     sex  capital-gain  \\\n",
       "0       Adm-clerical  Not-in-family  White    Male          2174   \n",
       "1    Exec-managerial        Husband  White    Male             0   \n",
       "2  Handlers-cleaners  Not-in-family  White    Male             0   \n",
       "3  Handlers-cleaners        Husband  Black    Male             0   \n",
       "4     Prof-specialty           Wife  Black  Female             0   \n",
       "\n",
       "   capital-loss  hours-per-week native-country income  \n",
       "0             0              40  United-States  <=50K  \n",
       "1             0              13  United-States  <=50K  \n",
       "2             0              40  United-States  <=50K  \n",
       "3             0              40  United-States  <=50K  \n",
       "4             0              40           Cuba  <=50K  "
      ]
     },
     "execution_count": 3,
     "metadata": {},
     "output_type": "execute_result"
    }
   ],
   "source": [
    "data = read_dataset('income_evaluation.csv')\n",
    "data.head()"
   ]
  },
  {
   "cell_type": "markdown",
   "metadata": {},
   "source": [
    "### Prepare and split data"
   ]
  },
  {
   "cell_type": "code",
   "execution_count": 4,
   "metadata": {},
   "outputs": [],
   "source": [
    "from sklearn.model_selection import train_test_split\n",
    "from sklearn.preprocessing import MinMaxScaler"
   ]
  },
  {
   "cell_type": "code",
   "execution_count": 5,
   "metadata": {},
   "outputs": [
    {
     "name": "stdout",
     "output_type": "stream",
     "text": [
      "X.shape: (30139, 80) y.shape: (30139,)\n"
     ]
    }
   ],
   "source": [
    "X = data.drop(['income'], axis=1)\n",
    "y = data['income'].values\n",
    "\n",
    "y[y=='<=50K'] = 0\n",
    "y[y=='>50K'] = 1\n",
    "\n",
    "X = pd.get_dummies(X, drop_first=True)\n",
    "\n",
    "print(\"X.shape: {} y.shape: {}\".format(X.shape, y.shape))"
   ]
  },
  {
   "cell_type": "code",
   "execution_count": 6,
   "metadata": {},
   "outputs": [
    {
     "name": "stdout",
     "output_type": "stream",
     "text": [
      "X_train: (25618, 80) y_train: (25618,)\n",
      "X_test: (4521, 80) y_test: (4521,)\n"
     ]
    }
   ],
   "source": [
    "X_train, X_test, y_train, y_test = train_test_split(X, y, test_size=0.15, random_state=42)\n",
    "\n",
    "scaler = MinMaxScaler()\n",
    "X_train = scaler.fit_transform(X_train)\n",
    "X_test = scaler.transform(X_test)\n",
    "\n",
    "print(\"X_train: {} y_train: {}\".format(X_train.shape, y_train.shape))\n",
    "print(\"X_test: {} y_test: {}\".format(X_test.shape, y_test.shape))"
   ]
  },
  {
   "cell_type": "markdown",
   "metadata": {},
   "source": [
    "### auxiliary functions"
   ]
  },
  {
   "cell_type": "code",
   "execution_count": 7,
   "metadata": {},
   "outputs": [],
   "source": [
    "def eval_model(model):\n",
    "    print(\"Evaluation on test\")\n",
    "    results = model.evaluate(X_test, y_test)\n",
    "    for metric_name, result in zip(model.metrics_names, results):\n",
    "        print(\"{}: {:.10f}\".format(metric_name, result))\n",
    "\n",
    "        \n",
    "def plot_learn_curves(history, metrics):\n",
    "    fig, (ax1, ax2) = plt.subplots(1, 2, figsize=(15, 5))\n",
    "    \n",
    "    for metric in metrics:\n",
    "        ax1.plot(history.history[metric], label=metric)\n",
    "        ax2.plot(history.history[\"val_\"+metric], label=\"val_\"+metric)\n",
    "\n",
    "    ax1.set_title(\"train\")\n",
    "    ax2.set_title(\"validation\")\n",
    "\n",
    "    for ax in (ax1, ax2):        \n",
    "        ax.set_ylim(0, 1)\n",
    "        ax.grid(True)\n",
    "        ax.legend(loc=\"lower left\")\n",
    "\n",
    "    plt.show()"
   ]
  },
  {
   "cell_type": "markdown",
   "metadata": {},
   "source": [
    "### Neural Network"
   ]
  },
  {
   "cell_type": "code",
   "execution_count": 8,
   "metadata": {},
   "outputs": [
    {
     "name": "stdout",
     "output_type": "stream",
     "text": [
      "2.2.0\n",
      "2.3.0-tf\n"
     ]
    }
   ],
   "source": [
    "import tensorflow as tf\n",
    "from tensorflow import keras\n",
    "print(tf.__version__)\n",
    "print(keras.__version__)"
   ]
  },
  {
   "cell_type": "code",
   "execution_count": 9,
   "metadata": {},
   "outputs": [
    {
     "name": "stderr",
     "output_type": "stream",
     "text": [
      "Using TensorFlow backend.\n"
     ]
    }
   ],
   "source": [
    "from keras.models import Sequential\n",
    "from keras.layers import Dense, InputLayer, Dropout, BatchNormalization, Activation\n",
    "from keras.callbacks import History, EarlyStopping\n",
    "from tensorflow.keras import regularizers\n",
    "from tensorflow.keras.metrics import Precision, Recall"
   ]
  },
  {
   "cell_type": "code",
   "execution_count": 10,
   "metadata": {},
   "outputs": [
    {
     "name": "stdout",
     "output_type": "stream",
     "text": [
      "Model: \"sequential_1\"\n",
      "_________________________________________________________________\n",
      "Layer (type)                 Output Shape              Param #   \n",
      "=================================================================\n",
      "dense_1 (Dense)              (None, 64)                5184      \n",
      "_________________________________________________________________\n",
      "dense_2 (Dense)              (None, 8)                 520       \n",
      "_________________________________________________________________\n",
      "dense_3 (Dense)              (None, 1)                 9         \n",
      "=================================================================\n",
      "Total params: 5,713\n",
      "Trainable params: 5,713\n",
      "Non-trainable params: 0\n",
      "_________________________________________________________________\n"
     ]
    }
   ],
   "source": [
    "history_simple = History()\n",
    "model_simple = Sequential([\n",
    "    InputLayer(input_shape=(X_train.shape[1:])),\n",
    "    Dense(64, activation='sigmoid'),\n",
    "    Dense(8, activation='sigmoid'),\n",
    "    Dense(1, activation='sigmoid')\n",
    "])\n",
    "\n",
    "model_simple.summary()\n",
    "\n",
    "model_simple.compile(loss=\"binary_crossentropy\", optimizer=\"adam\", metrics=[\"accuracy\", Precision(), Recall()])"
   ]
  },
  {
   "cell_type": "code",
   "execution_count": 11,
   "metadata": {},
   "outputs": [
    {
     "name": "stdout",
     "output_type": "stream",
     "text": [
      "Train on 23056 samples, validate on 2562 samples\n",
      "Epoch 1/100\n",
      "23056/23056 [==============================] - 2s 70us/step - loss: 0.5095 - accuracy: 0.7560 - precision: 0.2366 - recall: 0.0015 - val_loss: 0.4267 - val_accuracy: 0.7974 - val_precision: 0.8052 - val_recall: 0.0358\n",
      "Epoch 2/100\n",
      "23056/23056 [==============================] - 1s 53us/step - loss: 0.3978 - accuracy: 0.8192 - precision: 0.7296 - recall: 0.1633 - val_loss: 0.3825 - val_accuracy: 0.8259 - val_precision: 0.6993 - val_recall: 0.2653\n",
      "Epoch 3/100\n",
      "23056/23056 [==============================] - 1s 54us/step - loss: 0.3760 - accuracy: 0.8268 - precision: 0.6920 - recall: 0.3255 - val_loss: 0.3708 - val_accuracy: 0.8271 - val_precision: 0.6874 - val_recall: 0.3711\n",
      "Epoch 4/100\n",
      "23056/23056 [==============================] - 1s 52us/step - loss: 0.3670 - accuracy: 0.8282 - precision: 0.6852 - recall: 0.4020 - val_loss: 0.3631 - val_accuracy: 0.8298 - val_precision: 0.6835 - val_recall: 0.4265\n",
      "Epoch 5/100\n",
      "23056/23056 [==============================] - 1s 53us/step - loss: 0.3598 - accuracy: 0.8316 - precision: 0.6833 - recall: 0.4461 - val_loss: 0.3567 - val_accuracy: 0.8361 - val_precision: 0.6830 - val_recall: 0.4623\n",
      "Epoch 6/100\n",
      "23056/23056 [==============================] - 1s 53us/step - loss: 0.3535 - accuracy: 0.8345 - precision: 0.6832 - recall: 0.4741 - val_loss: 0.3517 - val_accuracy: 0.8384 - val_precision: 0.6844 - val_recall: 0.4868\n",
      "Epoch 7/100\n",
      "23056/23056 [==============================] - 1s 54us/step - loss: 0.3474 - accuracy: 0.8361 - precision: 0.6848 - recall: 0.4968 - val_loss: 0.3477 - val_accuracy: 0.8411 - val_precision: 0.6856 - val_recall: 0.5053\n",
      "Epoch 8/100\n",
      "23056/23056 [==============================] - 1s 52us/step - loss: 0.3431 - accuracy: 0.8378 - precision: 0.6867 - recall: 0.5123 - val_loss: 0.3417 - val_accuracy: 0.8439 - val_precision: 0.6877 - val_recall: 0.5185\n",
      "Epoch 9/100\n",
      "23056/23056 [==============================] - 1s 55us/step - loss: 0.3392 - accuracy: 0.8406 - precision: 0.6886 - recall: 0.5248 - val_loss: 0.3377 - val_accuracy: 0.8482 - val_precision: 0.6896 - val_recall: 0.5302\n",
      "Epoch 10/100\n",
      "23056/23056 [==============================] - 1s 53us/step - loss: 0.3354 - accuracy: 0.8438 - precision: 0.6908 - recall: 0.5353 - val_loss: 0.3380 - val_accuracy: 0.8474 - val_precision: 0.6921 - val_recall: 0.5398\n",
      "Epoch 11/100\n",
      "23056/23056 [==============================] - 1s 52us/step - loss: 0.3339 - accuracy: 0.8437 - precision: 0.6932 - recall: 0.5437 - val_loss: 0.3330 - val_accuracy: 0.8536 - val_precision: 0.6941 - val_recall: 0.5478\n",
      "Epoch 12/100\n",
      "23056/23056 [==============================] - 1s 54us/step - loss: 0.3317 - accuracy: 0.8458 - precision: 0.6949 - recall: 0.5513 - val_loss: 0.3322 - val_accuracy: 0.8525 - val_precision: 0.6961 - val_recall: 0.5550\n",
      "Epoch 13/100\n",
      "23056/23056 [==============================] - 1s 54us/step - loss: 0.3308 - accuracy: 0.8450 - precision: 0.6968 - recall: 0.5578 - val_loss: 0.3315 - val_accuracy: 0.8517 - val_precision: 0.6976 - val_recall: 0.5610\n",
      "Epoch 14/100\n",
      "23056/23056 [==============================] - 1s 54us/step - loss: 0.3300 - accuracy: 0.8451 - precision: 0.6983 - recall: 0.5637 - val_loss: 0.3306 - val_accuracy: 0.8540 - val_precision: 0.6989 - val_recall: 0.5660\n",
      "Epoch 15/100\n",
      "23056/23056 [==============================] - 1s 52us/step - loss: 0.3289 - accuracy: 0.8459 - precision: 0.6995 - recall: 0.5687 - val_loss: 0.3311 - val_accuracy: 0.8517 - val_precision: 0.7000 - val_recall: 0.5708\n",
      "Epoch 16/100\n",
      "23056/23056 [==============================] - 1s 53us/step - loss: 0.3285 - accuracy: 0.8469 - precision: 0.7005 - recall: 0.5730 - val_loss: 0.3294 - val_accuracy: 0.8525 - val_precision: 0.7011 - val_recall: 0.5750\n",
      "Epoch 17/100\n",
      "23056/23056 [==============================] - 1s 54us/step - loss: 0.3284 - accuracy: 0.8472 - precision: 0.7016 - recall: 0.5767 - val_loss: 0.3288 - val_accuracy: 0.8470 - val_precision: 0.7022 - val_recall: 0.5784\n",
      "Epoch 18/100\n",
      "23056/23056 [==============================] - 1s 57us/step - loss: 0.3275 - accuracy: 0.8459 - precision: 0.7026 - recall: 0.5800 - val_loss: 0.3281 - val_accuracy: 0.8462 - val_precision: 0.7030 - val_recall: 0.5813\n",
      "Epoch 19/100\n",
      "23056/23056 [==============================] - 1s 52us/step - loss: 0.3278 - accuracy: 0.8469 - precision: 0.7033 - recall: 0.5826 - val_loss: 0.3274 - val_accuracy: 0.8478 - val_precision: 0.7039 - val_recall: 0.5839\n",
      "Epoch 20/100\n",
      "23056/23056 [==============================] - 1s 53us/step - loss: 0.3271 - accuracy: 0.8468 - precision: 0.7042 - recall: 0.5851 - val_loss: 0.3378 - val_accuracy: 0.8450 - val_precision: 0.7047 - val_recall: 0.5860\n",
      "Epoch 21/100\n",
      "23056/23056 [==============================] - 1s 55us/step - loss: 0.3267 - accuracy: 0.8470 - precision: 0.7050 - recall: 0.5868 - val_loss: 0.3272 - val_accuracy: 0.8489 - val_precision: 0.7056 - val_recall: 0.5878\n",
      "Epoch 22/100\n",
      "23056/23056 [==============================] - 1s 57us/step - loss: 0.3261 - accuracy: 0.8474 - precision: 0.7060 - recall: 0.5889 - val_loss: 0.3273 - val_accuracy: 0.8501 - val_precision: 0.7063 - val_recall: 0.5896\n",
      "Epoch 23/100\n",
      "23056/23056 [==============================] - 1s 54us/step - loss: 0.3262 - accuracy: 0.8473 - precision: 0.7067 - recall: 0.5903 - val_loss: 0.3301 - val_accuracy: 0.8505 - val_precision: 0.7070 - val_recall: 0.5914\n",
      "Epoch 24/100\n",
      "23056/23056 [==============================] - 1s 55us/step - loss: 0.3260 - accuracy: 0.8471 - precision: 0.7073 - recall: 0.5923 - val_loss: 0.3269 - val_accuracy: 0.8493 - val_precision: 0.7075 - val_recall: 0.5931\n",
      "Epoch 25/100\n",
      "23056/23056 [==============================] - 1s 57us/step - loss: 0.3256 - accuracy: 0.8467 - precision: 0.7079 - recall: 0.5937 - val_loss: 0.3278 - val_accuracy: 0.8493 - val_precision: 0.7082 - val_recall: 0.5942\n",
      "Epoch 26/100\n",
      "23056/23056 [==============================] - 1s 51us/step - loss: 0.3254 - accuracy: 0.8480 - precision: 0.7085 - recall: 0.5948 - val_loss: 0.3294 - val_accuracy: 0.8478 - val_precision: 0.7087 - val_recall: 0.5956\n",
      "Epoch 27/100\n",
      "23056/23056 [==============================] - 1s 50us/step - loss: 0.3252 - accuracy: 0.8471 - precision: 0.7089 - recall: 0.5962 - val_loss: 0.3267 - val_accuracy: 0.8478 - val_precision: 0.7092 - val_recall: 0.5967\n",
      "Epoch 28/100\n",
      "23056/23056 [==============================] - 1s 54us/step - loss: 0.3253 - accuracy: 0.8486 - precision: 0.7096 - recall: 0.5973 - val_loss: 0.3273 - val_accuracy: 0.8501 - val_precision: 0.7099 - val_recall: 0.5977\n",
      "Epoch 29/100\n",
      "23056/23056 [==============================] - 1s 58us/step - loss: 0.3244 - accuracy: 0.8479 - precision: 0.7101 - recall: 0.5983 - val_loss: 0.3277 - val_accuracy: 0.8493 - val_precision: 0.7103 - val_recall: 0.5988\n",
      "Epoch 30/100\n",
      "23056/23056 [==============================] - 1s 58us/step - loss: 0.3244 - accuracy: 0.8482 - precision: 0.7105 - recall: 0.5992 - val_loss: 0.3256 - val_accuracy: 0.8497 - val_precision: 0.7109 - val_recall: 0.5997\n",
      "Epoch 31/100\n",
      "23056/23056 [==============================] - 1s 52us/step - loss: 0.3249 - accuracy: 0.8484 - precision: 0.7110 - recall: 0.5998 - val_loss: 0.3284 - val_accuracy: 0.8466 - val_precision: 0.7114 - val_recall: 0.6005\n",
      "Epoch 32/100\n",
      "23056/23056 [==============================] - 1s 53us/step - loss: 0.3245 - accuracy: 0.8490 - precision: 0.7115 - recall: 0.6010 - val_loss: 0.3251 - val_accuracy: 0.8505 - val_precision: 0.7118 - val_recall: 0.6014\n",
      "Epoch 33/100\n",
      "23056/23056 [==============================] - 1s 52us/step - loss: 0.3240 - accuracy: 0.8481 - precision: 0.7121 - recall: 0.6016 - val_loss: 0.3287 - val_accuracy: 0.8462 - val_precision: 0.7123 - val_recall: 0.6019\n",
      "Epoch 34/100\n",
      "23056/23056 [==============================] - 1s 52us/step - loss: 0.3237 - accuracy: 0.8488 - precision: 0.7126 - recall: 0.6021 - val_loss: 0.3252 - val_accuracy: 0.8470 - val_precision: 0.7128 - val_recall: 0.6024\n",
      "Epoch 35/100\n",
      "23056/23056 [==============================] - 1s 54us/step - loss: 0.3235 - accuracy: 0.8488 - precision: 0.7131 - recall: 0.6026 - val_loss: 0.3284 - val_accuracy: 0.8462 - val_precision: 0.7133 - val_recall: 0.6029\n",
      "Epoch 36/100\n"
     ]
    },
    {
     "name": "stdout",
     "output_type": "stream",
     "text": [
      "23056/23056 [==============================] - 1s 52us/step - loss: 0.3235 - accuracy: 0.8469 - precision: 0.7135 - recall: 0.6030 - val_loss: 0.3267 - val_accuracy: 0.8462 - val_precision: 0.7137 - val_recall: 0.6032\n",
      "Epoch 37/100\n",
      "23056/23056 [==============================] - 1s 52us/step - loss: 0.3230 - accuracy: 0.8485 - precision: 0.7139 - recall: 0.6033 - val_loss: 0.3252 - val_accuracy: 0.8489 - val_precision: 0.7141 - val_recall: 0.6036\n"
     ]
    },
    {
     "data": {
      "text/plain": [
       "<keras.callbacks.callbacks.History at 0x7fe474266e20>"
      ]
     },
     "execution_count": 11,
     "metadata": {},
     "output_type": "execute_result"
    }
   ],
   "source": [
    "early_stopping = EarlyStopping(monitor='val_loss', patience=5, mode='min', verbose=0)\n",
    "\n",
    "model_simple.fit(X_train, y_train, \n",
    "                 validation_split=0.1,\n",
    "                 batch_size=64, \n",
    "                 epochs=100, \n",
    "                 callbacks=[early_stopping, history_simple])"
   ]
  },
  {
   "cell_type": "code",
   "execution_count": 12,
   "metadata": {},
   "outputs": [
    {
     "data": {
      "image/png": "[encoded data removed]",
      "text/plain": [
       "<Figure size 1080x360 with 2 Axes>"
      ]
     },
     "metadata": {
      "needs_background": "light"
     },
     "output_type": "display_data"
    },
    {
     "name": "stdout",
     "output_type": "stream",
     "text": [
      "Evaluation on test\n",
      "4521/4521 [==============================] - 0s 48us/step\n",
      "loss: 0.3221636431\n",
      "accuracy: 0.8493695855\n",
      "precision: 0.7142172456\n",
      "recall: 0.6037194729\n"
     ]
    }
   ],
   "source": [
    "plot_learn_curves(history_simple, model_simple.metrics_names)\n",
    "eval_model(model_simple)"
   ]
  },
  {
   "cell_type": "code",
   "execution_count": 13,
   "metadata": {},
   "outputs": [
    {
     "name": "stdout",
     "output_type": "stream",
     "text": [
      "Model: \"sequential_2\"\n",
      "_________________________________________________________________\n",
      "Layer (type)                 Output Shape              Param #   \n",
      "=================================================================\n",
      "dense_4 (Dense)              (None, 64)                5120      \n",
      "_________________________________________________________________\n",
      "batch_normalization_1 (Batch (None, 64)                256       \n",
      "_________________________________________________________________\n",
      "activation_1 (Activation)    (None, 64)                0         \n",
      "_________________________________________________________________\n",
      "dropout_1 (Dropout)          (None, 64)                0         \n",
      "_________________________________________________________________\n",
      "dense_5 (Dense)              (None, 32)                2048      \n",
      "_________________________________________________________________\n",
      "batch_normalization_2 (Batch (None, 32)                128       \n",
      "_________________________________________________________________\n",
      "activation_2 (Activation)    (None, 32)                0         \n",
      "_________________________________________________________________\n",
      "dropout_2 (Dropout)          (None, 32)                0         \n",
      "_________________________________________________________________\n",
      "dense_6 (Dense)              (None, 1)                 33        \n",
      "=================================================================\n",
      "Total params: 7,585\n",
      "Trainable params: 7,393\n",
      "Non-trainable params: 192\n",
      "_________________________________________________________________\n"
     ]
    }
   ],
   "source": [
    "history_he_elu = History()\n",
    "model_he_elu = Sequential([\n",
    "    InputLayer(input_shape=(X_train.shape[1:])),\n",
    "    Dense(64, use_bias=False, kernel_initializer=\"he_normal\", activity_regularizer=regularizers.l2(1e-6)),\n",
    "    BatchNormalization(),\n",
    "    Activation('elu'),\n",
    "    Dropout(0.2),\n",
    "    Dense(32, use_bias=False, kernel_initializer=\"he_normal\", activity_regularizer=regularizers.l2(1e-6)),\n",
    "    BatchNormalization(),\n",
    "    Activation('elu'),\n",
    "    Dropout(0.1),\n",
    "    Dense(1, activation='sigmoid', kernel_initializer=\"normal\")\n",
    "])\n",
    "    \n",
    "    \n",
    "model_he_elu.summary()\n",
    "\n",
    "model_he_elu.compile(loss=\"binary_crossentropy\", optimizer=\"adam\", metrics=[\"accuracy\", Precision(), Recall()])"
   ]
  },
  {
   "cell_type": "code",
   "execution_count": 14,
   "metadata": {},
   "outputs": [
    {
     "name": "stdout",
     "output_type": "stream",
     "text": [
      "Train on 23056 samples, validate on 2562 samples\n",
      "Epoch 1/100\n",
      "23056/23056 [==============================] - 3s 121us/step - loss: 0.4414 - accuracy: 0.7916 - precision_1: 0.4877 - recall_1: 0.6925 - val_loss: 0.3828 - val_accuracy: 0.8333 - val_precision_1: 0.5730 - val_recall_1: 0.6720\n",
      "Epoch 2/100\n",
      "23056/23056 [==============================] - 2s 80us/step - loss: 0.3635 - accuracy: 0.8300 - precision_1: 0.5995 - recall_1: 0.6514 - val_loss: 0.3431 - val_accuracy: 0.8489 - val_precision_1: 0.6204 - val_recall_1: 0.6364\n",
      "Epoch 3/100\n",
      "23056/23056 [==============================] - 2s 85us/step - loss: 0.3540 - accuracy: 0.8357 - precision_1: 0.6330 - recall_1: 0.6310 - val_loss: 0.3373 - val_accuracy: 0.8454 - val_precision_1: 0.6432 - val_recall_1: 0.6273\n",
      "Epoch 4/100\n",
      "23056/23056 [==============================] - 2s 84us/step - loss: 0.3489 - accuracy: 0.8372 - precision_1: 0.6504 - recall_1: 0.6231 - val_loss: 0.3354 - val_accuracy: 0.8497 - val_precision_1: 0.6570 - val_recall_1: 0.6209\n",
      "Epoch 5/100\n",
      "23056/23056 [==============================] - 2s 78us/step - loss: 0.3444 - accuracy: 0.8391 - precision_1: 0.6623 - recall_1: 0.6198 - val_loss: 0.3337 - val_accuracy: 0.8505 - val_precision_1: 0.6664 - val_recall_1: 0.6184\n",
      "Epoch 6/100\n",
      "23056/23056 [==============================] - 2s 84us/step - loss: 0.3415 - accuracy: 0.8431 - precision_1: 0.6703 - recall_1: 0.6186 - val_loss: 0.3292 - val_accuracy: 0.8521 - val_precision_1: 0.6741 - val_recall_1: 0.6177\n",
      "Epoch 7/100\n",
      "23056/23056 [==============================] - 2s 80us/step - loss: 0.3398 - accuracy: 0.8424 - precision_1: 0.6771 - recall_1: 0.6168 - val_loss: 0.3248 - val_accuracy: 0.8556 - val_precision_1: 0.6798 - val_recall_1: 0.6169\n",
      "Epoch 8/100\n",
      "23056/23056 [==============================] - 2s 80us/step - loss: 0.3365 - accuracy: 0.8464 - precision_1: 0.6826 - recall_1: 0.6177 - val_loss: 0.3270 - val_accuracy: 0.8568 - val_precision_1: 0.6850 - val_recall_1: 0.6181\n",
      "Epoch 9/100\n",
      "23056/23056 [==============================] - 2s 80us/step - loss: 0.3356 - accuracy: 0.8452 - precision_1: 0.6872 - recall_1: 0.6186 - val_loss: 0.3229 - val_accuracy: 0.8560 - val_precision_1: 0.6887 - val_recall_1: 0.6186\n",
      "Epoch 10/100\n",
      "23056/23056 [==============================] - 2s 80us/step - loss: 0.3333 - accuracy: 0.8455 - precision_1: 0.6904 - recall_1: 0.6183 - val_loss: 0.3223 - val_accuracy: 0.8568 - val_precision_1: 0.6921 - val_recall_1: 0.6184\n",
      "Epoch 11/100\n",
      "23056/23056 [==============================] - 2s 86us/step - loss: 0.3335 - accuracy: 0.8477 - precision_1: 0.6937 - recall_1: 0.6183 - val_loss: 0.3255 - val_accuracy: 0.8544 - val_precision_1: 0.6953 - val_recall_1: 0.6187\n",
      "Epoch 12/100\n",
      "23056/23056 [==============================] - 2s 79us/step - loss: 0.3302 - accuracy: 0.8480 - precision_1: 0.6965 - recall_1: 0.6197 - val_loss: 0.3219 - val_accuracy: 0.8517 - val_precision_1: 0.6976 - val_recall_1: 0.6197\n",
      "Epoch 13/100\n",
      "23056/23056 [==============================] - 2s 79us/step - loss: 0.3294 - accuracy: 0.8473 - precision_1: 0.6985 - recall_1: 0.6201 - val_loss: 0.3233 - val_accuracy: 0.8525 - val_precision_1: 0.6994 - val_recall_1: 0.6205\n",
      "Epoch 14/100\n",
      "23056/23056 [==============================] - 2s 83us/step - loss: 0.3292 - accuracy: 0.8483 - precision_1: 0.7004 - recall_1: 0.6206 - val_loss: 0.3206 - val_accuracy: 0.8607 - val_precision_1: 0.7013 - val_recall_1: 0.6211\n",
      "Epoch 15/100\n",
      "23056/23056 [==============================] - 2s 86us/step - loss: 0.3267 - accuracy: 0.8487 - precision_1: 0.7020 - recall_1: 0.6214 - val_loss: 0.3204 - val_accuracy: 0.8568 - val_precision_1: 0.7030 - val_recall_1: 0.6218\n",
      "Epoch 16/100\n",
      "23056/23056 [==============================] - 2s 81us/step - loss: 0.3271 - accuracy: 0.8495 - precision_1: 0.7036 - recall_1: 0.6221 - val_loss: 0.3204 - val_accuracy: 0.8564 - val_precision_1: 0.7045 - val_recall_1: 0.6225\n",
      "Epoch 17/100\n",
      "23056/23056 [==============================] - 2s 79us/step - loss: 0.3269 - accuracy: 0.8464 - precision_1: 0.7050 - recall_1: 0.6225 - val_loss: 0.3218 - val_accuracy: 0.8564 - val_precision_1: 0.7056 - val_recall_1: 0.6227\n",
      "Epoch 18/100\n",
      "23056/23056 [==============================] - 2s 79us/step - loss: 0.3260 - accuracy: 0.8477 - precision_1: 0.7060 - recall_1: 0.6228 - val_loss: 0.3196 - val_accuracy: 0.8564 - val_precision_1: 0.7066 - val_recall_1: 0.6230\n",
      "Epoch 19/100\n",
      "23056/23056 [==============================] - 2s 79us/step - loss: 0.3248 - accuracy: 0.8507 - precision_1: 0.7072 - recall_1: 0.6232 - val_loss: 0.3205 - val_accuracy: 0.8548 - val_precision_1: 0.7079 - val_recall_1: 0.6236\n",
      "Epoch 20/100\n",
      "23056/23056 [==============================] - 2s 79us/step - loss: 0.3230 - accuracy: 0.8517 - precision_1: 0.7085 - recall_1: 0.6239 - val_loss: 0.3172 - val_accuracy: 0.8610 - val_precision_1: 0.7091 - val_recall_1: 0.6242\n",
      "Epoch 21/100\n",
      "23056/23056 [==============================] - 2s 76us/step - loss: 0.3237 - accuracy: 0.8510 - precision_1: 0.7098 - recall_1: 0.6242 - val_loss: 0.3198 - val_accuracy: 0.8591 - val_precision_1: 0.7104 - val_recall_1: 0.6244\n",
      "Epoch 22/100\n",
      "23056/23056 [==============================] - 2s 80us/step - loss: 0.3246 - accuracy: 0.8491 - precision_1: 0.7106 - recall_1: 0.6246 - val_loss: 0.3277 - val_accuracy: 0.8486 - val_precision_1: 0.7110 - val_recall_1: 0.6250\n",
      "Epoch 23/100\n",
      "23056/23056 [==============================] - 2s 78us/step - loss: 0.3241 - accuracy: 0.8522 - precision_1: 0.7114 - recall_1: 0.6255 - val_loss: 0.3204 - val_accuracy: 0.8575 - val_precision_1: 0.7119 - val_recall_1: 0.6256\n",
      "Epoch 24/100\n",
      "23056/23056 [==============================] - 2s 79us/step - loss: 0.3239 - accuracy: 0.8508 - precision_1: 0.7124 - recall_1: 0.6259 - val_loss: 0.3182 - val_accuracy: 0.8575 - val_precision_1: 0.7127 - val_recall_1: 0.6259\n",
      "Epoch 25/100\n",
      "23056/23056 [==============================] - 2s 77us/step - loss: 0.3213 - accuracy: 0.8532 - precision_1: 0.7133 - recall_1: 0.6262 - val_loss: 0.3182 - val_accuracy: 0.8579 - val_precision_1: 0.7136 - val_recall_1: 0.6265\n"
     ]
    },
    {
     "data": {
      "text/plain": [
       "<keras.callbacks.callbacks.History at 0x7fe46c155160>"
      ]
     },
     "execution_count": 14,
     "metadata": {},
     "output_type": "execute_result"
    }
   ],
   "source": [
    "early_stopping = EarlyStopping(monitor='val_loss', patience=5, mode='min', verbose=0)\n",
    "\n",
    "model_he_elu.fit(X_train, y_train,  \n",
    "           validation_split=0.1,\n",
    "           batch_size=64, \n",
    "           epochs=100, \n",
    "           callbacks=[early_stopping, history_he_elu])"
   ]
  },
  {
   "cell_type": "code",
   "execution_count": 15,
   "metadata": {},
   "outputs": [
    {
     "data": {
      "image/png": "[encoded data removed]",
      "text/plain": [
       "<Figure size 1080x360 with 2 Axes>"
      ]
     },
     "metadata": {
      "needs_background": "light"
     },
     "output_type": "display_data"
    },
    {
     "name": "stdout",
     "output_type": "stream",
     "text": [
      "Evaluation on test\n",
      "4521/4521 [==============================] - 0s 54us/step\n",
      "loss: 0.3149096678\n",
      "accuracy: 0.8544569612\n",
      "precision_1: 0.7137655020\n",
      "recall_1: 0.6268138885\n"
     ]
    }
   ],
   "source": [
    "plot_learn_curves(history_he_elu, model_he_elu.metrics_names)\n",
    "eval_model(model_he_elu)"
   ]
  },
  {
   "cell_type": "code",
   "execution_count": 16,
   "metadata": {},
   "outputs": [
    {
     "name": "stdout",
     "output_type": "stream",
     "text": [
      "Model: \"sequential_3\"\n",
      "_________________________________________________________________\n",
      "Layer (type)                 Output Shape              Param #   \n",
      "=================================================================\n",
      "dense_7 (Dense)              (None, 64)                5184      \n",
      "_________________________________________________________________\n",
      "dropout_3 (Dropout)          (None, 64)                0         \n",
      "_________________________________________________________________\n",
      "dense_8 (Dense)              (None, 32)                2080      \n",
      "_________________________________________________________________\n",
      "dropout_4 (Dropout)          (None, 32)                0         \n",
      "_________________________________________________________________\n",
      "dense_9 (Dense)              (None, 1)                 33        \n",
      "=================================================================\n",
      "Total params: 7,297\n",
      "Trainable params: 7,297\n",
      "Non-trainable params: 0\n",
      "_________________________________________________________________\n"
     ]
    }
   ],
   "source": [
    "history_lecun_selu = History()\n",
    "model_lecun_selu = Sequential([\n",
    "    InputLayer(input_shape=(X_train.shape[1:])),\n",
    "    Dense(64, activation='selu', kernel_initializer=\"lecun_normal\", activity_regularizer=regularizers.l1(1e-4)),\n",
    "    Dropout(0.1),\n",
    "    Dense(32, activation='selu', kernel_initializer=\"lecun_normal\", activity_regularizer=regularizers.l1(1e-4)),\n",
    "    Dropout(0.1),\n",
    "    Dense(1, activation='sigmoid')\n",
    "])\n",
    "\n",
    "model_lecun_selu.summary()\n",
    "\n",
    "model_lecun_selu.compile(loss=\"binary_crossentropy\", optimizer=\"adam\", metrics=[\"accuracy\", Precision(), Recall()])"
   ]
  },
  {
   "cell_type": "code",
   "execution_count": 17,
   "metadata": {},
   "outputs": [
    {
     "name": "stdout",
     "output_type": "stream",
     "text": [
      "Train on 23056 samples, validate on 2562 samples\n",
      "Epoch 1/100\n",
      "23056/23056 [==============================] - 2s 93us/step - loss: 0.5182 - accuracy: 0.8165 - precision_2: 0.6147 - recall_2: 0.4139 - val_loss: 0.4455 - val_accuracy: 0.8431 - val_precision_2: 0.6793 - val_recall_2: 0.5064\n",
      "Epoch 2/100\n",
      "23056/23056 [==============================] - 2s 72us/step - loss: 0.4312 - accuracy: 0.8371 - precision_2: 0.6890 - recall_2: 0.5265 - val_loss: 0.4110 - val_accuracy: 0.8478 - val_precision_2: 0.6975 - val_recall_2: 0.5441\n",
      "Epoch 3/100\n",
      "23056/23056 [==============================] - 2s 74us/step - loss: 0.4072 - accuracy: 0.8422 - precision_2: 0.7026 - recall_2: 0.5523 - val_loss: 0.3937 - val_accuracy: 0.8482 - val_precision_2: 0.7079 - val_recall_2: 0.5580\n",
      "Epoch 4/100\n",
      "23056/23056 [==============================] - 2s 72us/step - loss: 0.3946 - accuracy: 0.8432 - precision_2: 0.7114 - recall_2: 0.5607 - val_loss: 0.3955 - val_accuracy: 0.8431 - val_precision_2: 0.7145 - val_recall_2: 0.5632\n",
      "Epoch 5/100\n",
      "23056/23056 [==============================] - 2s 71us/step - loss: 0.3858 - accuracy: 0.8430 - precision_2: 0.7167 - recall_2: 0.5648 - val_loss: 0.3947 - val_accuracy: 0.8290 - val_precision_2: 0.7184 - val_recall_2: 0.5648\n",
      "Epoch 6/100\n",
      "23056/23056 [==============================] - 2s 73us/step - loss: 0.3814 - accuracy: 0.8438 - precision_2: 0.7203 - recall_2: 0.5643 - val_loss: 0.3730 - val_accuracy: 0.8525 - val_precision_2: 0.7216 - val_recall_2: 0.5664\n",
      "Epoch 7/100\n",
      "23056/23056 [==============================] - 2s 76us/step - loss: 0.3769 - accuracy: 0.8439 - precision_2: 0.7227 - recall_2: 0.5688 - val_loss: 0.3684 - val_accuracy: 0.8509 - val_precision_2: 0.7233 - val_recall_2: 0.5696\n",
      "Epoch 8/100\n",
      "23056/23056 [==============================] - 2s 79us/step - loss: 0.3724 - accuracy: 0.8450 - precision_2: 0.7238 - recall_2: 0.5704 - val_loss: 0.3669 - val_accuracy: 0.8470 - val_precision_2: 0.7248 - val_recall_2: 0.5721\n",
      "Epoch 9/100\n",
      "23056/23056 [==============================] - 2s 74us/step - loss: 0.3692 - accuracy: 0.8441 - precision_2: 0.7254 - recall_2: 0.5722 - val_loss: 0.3735 - val_accuracy: 0.8443 - val_precision_2: 0.7257 - val_recall_2: 0.5738\n",
      "Epoch 10/100\n",
      "23056/23056 [==============================] - 2s 71us/step - loss: 0.3697 - accuracy: 0.8449 - precision_2: 0.7256 - recall_2: 0.5754 - val_loss: 0.3609 - val_accuracy: 0.8505 - val_precision_2: 0.7262 - val_recall_2: 0.5759\n",
      "Epoch 11/100\n",
      "23056/23056 [==============================] - 2s 71us/step - loss: 0.3662 - accuracy: 0.8446 - precision_2: 0.7269 - recall_2: 0.5766 - val_loss: 0.3578 - val_accuracy: 0.8509 - val_precision_2: 0.7272 - val_recall_2: 0.5767\n",
      "Epoch 12/100\n",
      "23056/23056 [==============================] - 2s 71us/step - loss: 0.3634 - accuracy: 0.8455 - precision_2: 0.7275 - recall_2: 0.5772 - val_loss: 0.3587 - val_accuracy: 0.8486 - val_precision_2: 0.7281 - val_recall_2: 0.5778\n",
      "Epoch 13/100\n",
      "23056/23056 [==============================] - 2s 70us/step - loss: 0.3622 - accuracy: 0.8449 - precision_2: 0.7281 - recall_2: 0.5779 - val_loss: 0.3626 - val_accuracy: 0.8482 - val_precision_2: 0.7285 - val_recall_2: 0.5788\n",
      "Epoch 14/100\n",
      "23056/23056 [==============================] - 2s 73us/step - loss: 0.3615 - accuracy: 0.8472 - precision_2: 0.7289 - recall_2: 0.5797 - val_loss: 0.3567 - val_accuracy: 0.8548 - val_precision_2: 0.7292 - val_recall_2: 0.5802\n",
      "Epoch 15/100\n",
      "23056/23056 [==============================] - 2s 72us/step - loss: 0.3616 - accuracy: 0.8429 - precision_2: 0.7293 - recall_2: 0.5804 - val_loss: 0.3575 - val_accuracy: 0.8427 - val_precision_2: 0.7294 - val_recall_2: 0.5803\n",
      "Epoch 16/100\n",
      "23056/23056 [==============================] - 2s 71us/step - loss: 0.3591 - accuracy: 0.8460 - precision_2: 0.7298 - recall_2: 0.5807 - val_loss: 0.3532 - val_accuracy: 0.8462 - val_precision_2: 0.7301 - val_recall_2: 0.5805\n",
      "Epoch 17/100\n",
      "23056/23056 [==============================] - 2s 70us/step - loss: 0.3591 - accuracy: 0.8445 - precision_2: 0.7300 - recall_2: 0.5804 - val_loss: 0.3548 - val_accuracy: 0.8439 - val_precision_2: 0.7304 - val_recall_2: 0.5806\n",
      "Epoch 18/100\n",
      "23056/23056 [==============================] - 2s 71us/step - loss: 0.3575 - accuracy: 0.8453 - precision_2: 0.7307 - recall_2: 0.5806 - val_loss: 0.3557 - val_accuracy: 0.8486 - val_precision_2: 0.7308 - val_recall_2: 0.5811\n",
      "Epoch 19/100\n",
      "23056/23056 [==============================] - 2s 71us/step - loss: 0.3561 - accuracy: 0.8459 - precision_2: 0.7308 - recall_2: 0.5815 - val_loss: 0.3518 - val_accuracy: 0.8497 - val_precision_2: 0.7310 - val_recall_2: 0.5817\n",
      "Epoch 20/100\n",
      "23056/23056 [==============================] - 2s 71us/step - loss: 0.3581 - accuracy: 0.8449 - precision_2: 0.7311 - recall_2: 0.5821 - val_loss: 0.3554 - val_accuracy: 0.8489 - val_precision_2: 0.7312 - val_recall_2: 0.5821\n",
      "Epoch 21/100\n",
      "23056/23056 [==============================] - 2s 71us/step - loss: 0.3559 - accuracy: 0.8459 - precision_2: 0.7313 - recall_2: 0.5825 - val_loss: 0.3488 - val_accuracy: 0.8536 - val_precision_2: 0.7314 - val_recall_2: 0.5827\n",
      "Epoch 22/100\n",
      "23056/23056 [==============================] - 2s 77us/step - loss: 0.3553 - accuracy: 0.8449 - precision_2: 0.7316 - recall_2: 0.5831 - val_loss: 0.3537 - val_accuracy: 0.8482 - val_precision_2: 0.7315 - val_recall_2: 0.5832\n",
      "Epoch 23/100\n",
      "23056/23056 [==============================] - 2s 73us/step - loss: 0.3534 - accuracy: 0.8441 - precision_2: 0.7315 - recall_2: 0.5834 - val_loss: 0.3559 - val_accuracy: 0.8404 - val_precision_2: 0.7315 - val_recall_2: 0.5834\n",
      "Epoch 24/100\n",
      "23056/23056 [==============================] - 2s 74us/step - loss: 0.3519 - accuracy: 0.8459 - precision_2: 0.7317 - recall_2: 0.5831 - val_loss: 0.3636 - val_accuracy: 0.8407 - val_precision_2: 0.7317 - val_recall_2: 0.5837\n",
      "Epoch 25/100\n",
      "23056/23056 [==============================] - 2s 71us/step - loss: 0.3543 - accuracy: 0.8445 - precision_2: 0.7314 - recall_2: 0.5841 - val_loss: 0.3476 - val_accuracy: 0.8486 - val_precision_2: 0.7315 - val_recall_2: 0.5841\n",
      "Epoch 26/100\n",
      "23056/23056 [==============================] - 2s 74us/step - loss: 0.3532 - accuracy: 0.8447 - precision_2: 0.7316 - recall_2: 0.5842 - val_loss: 0.3484 - val_accuracy: 0.8462 - val_precision_2: 0.7317 - val_recall_2: 0.5842\n",
      "Epoch 27/100\n",
      "23056/23056 [==============================] - 2s 74us/step - loss: 0.3513 - accuracy: 0.8449 - precision_2: 0.7318 - recall_2: 0.5841 - val_loss: 0.3507 - val_accuracy: 0.8517 - val_precision_2: 0.7318 - val_recall_2: 0.5844\n",
      "Epoch 28/100\n",
      "23056/23056 [==============================] - 2s 81us/step - loss: 0.3514 - accuracy: 0.8482 - precision_2: 0.7319 - recall_2: 0.5850 - val_loss: 0.3494 - val_accuracy: 0.8478 - val_precision_2: 0.7321 - val_recall_2: 0.5849\n",
      "Epoch 29/100\n",
      "23056/23056 [==============================] - 2s 79us/step - loss: 0.3506 - accuracy: 0.8484 - precision_2: 0.7323 - recall_2: 0.5851 - val_loss: 0.3481 - val_accuracy: 0.8462 - val_precision_2: 0.7324 - val_recall_2: 0.5852\n",
      "Epoch 30/100\n",
      "23056/23056 [==============================] - 2s 86us/step - loss: 0.3514 - accuracy: 0.8460 - precision_2: 0.7325 - recall_2: 0.5853 - val_loss: 0.3469 - val_accuracy: 0.8450 - val_precision_2: 0.7326 - val_recall_2: 0.5855\n",
      "Epoch 31/100\n",
      "23056/23056 [==============================] - 2s 82us/step - loss: 0.3508 - accuracy: 0.8465 - precision_2: 0.7327 - recall_2: 0.5857 - val_loss: 0.3471 - val_accuracy: 0.8443 - val_precision_2: 0.7327 - val_recall_2: 0.5856\n",
      "Epoch 32/100\n",
      "23056/23056 [==============================] - 2s 71us/step - loss: 0.3514 - accuracy: 0.8446 - precision_2: 0.7329 - recall_2: 0.5856 - val_loss: 0.3465 - val_accuracy: 0.8548 - val_precision_2: 0.7329 - val_recall_2: 0.5856\n",
      "Epoch 33/100\n",
      "23056/23056 [==============================] - 2s 83us/step - loss: 0.3524 - accuracy: 0.8449 - precision_2: 0.7330 - recall_2: 0.5856 - val_loss: 0.3466 - val_accuracy: 0.8454 - val_precision_2: 0.7330 - val_recall_2: 0.5855\n",
      "Epoch 34/100\n",
      "23056/23056 [==============================] - 1s 64us/step - loss: 0.3493 - accuracy: 0.8455 - precision_2: 0.7331 - recall_2: 0.5855 - val_loss: 0.3444 - val_accuracy: 0.8482 - val_precision_2: 0.7331 - val_recall_2: 0.5856\n",
      "Epoch 35/100\n"
     ]
    },
    {
     "name": "stdout",
     "output_type": "stream",
     "text": [
      "23056/23056 [==============================] - 2s 67us/step - loss: 0.3487 - accuracy: 0.8455 - precision_2: 0.7332 - recall_2: 0.5857 - val_loss: 0.3459 - val_accuracy: 0.8536 - val_precision_2: 0.7332 - val_recall_2: 0.5858\n",
      "Epoch 36/100\n",
      "23056/23056 [==============================] - 1s 63us/step - loss: 0.3500 - accuracy: 0.8468 - precision_2: 0.7333 - recall_2: 0.5860 - val_loss: 0.3472 - val_accuracy: 0.8474 - val_precision_2: 0.7334 - val_recall_2: 0.5860\n",
      "Epoch 37/100\n",
      "23056/23056 [==============================] - 1s 64us/step - loss: 0.3488 - accuracy: 0.8463 - precision_2: 0.7335 - recall_2: 0.5860 - val_loss: 0.3499 - val_accuracy: 0.8474 - val_precision_2: 0.7335 - val_recall_2: 0.5863\n",
      "Epoch 38/100\n",
      "23056/23056 [==============================] - 2s 66us/step - loss: 0.3504 - accuracy: 0.8475 - precision_2: 0.7334 - recall_2: 0.5864 - val_loss: 0.3431 - val_accuracy: 0.8486 - val_precision_2: 0.7336 - val_recall_2: 0.5866\n",
      "Epoch 39/100\n",
      "23056/23056 [==============================] - 2s 69us/step - loss: 0.3483 - accuracy: 0.8462 - precision_2: 0.7336 - recall_2: 0.5867 - val_loss: 0.3490 - val_accuracy: 0.8419 - val_precision_2: 0.7336 - val_recall_2: 0.5868\n",
      "Epoch 40/100\n",
      "23056/23056 [==============================] - 1s 64us/step - loss: 0.3493 - accuracy: 0.8445 - precision_2: 0.7337 - recall_2: 0.5867 - val_loss: 0.3481 - val_accuracy: 0.8447 - val_precision_2: 0.7338 - val_recall_2: 0.5865\n",
      "Epoch 41/100\n",
      "23056/23056 [==============================] - 1s 63us/step - loss: 0.3485 - accuracy: 0.8453 - precision_2: 0.7338 - recall_2: 0.5865 - val_loss: 0.3430 - val_accuracy: 0.8458 - val_precision_2: 0.7338 - val_recall_2: 0.5866\n",
      "Epoch 42/100\n",
      "23056/23056 [==============================] - 2s 67us/step - loss: 0.3503 - accuracy: 0.8459 - precision_2: 0.7337 - recall_2: 0.5867 - val_loss: 0.3457 - val_accuracy: 0.8493 - val_precision_2: 0.7337 - val_recall_2: 0.5869\n",
      "Epoch 43/100\n",
      "23056/23056 [==============================] - 2s 66us/step - loss: 0.3488 - accuracy: 0.8475 - precision_2: 0.7337 - recall_2: 0.5870 - val_loss: 0.3455 - val_accuracy: 0.8470 - val_precision_2: 0.7338 - val_recall_2: 0.5872\n",
      "Epoch 44/100\n",
      "23056/23056 [==============================] - 2s 67us/step - loss: 0.3476 - accuracy: 0.8446 - precision_2: 0.7338 - recall_2: 0.5873 - val_loss: 0.3441 - val_accuracy: 0.8447 - val_precision_2: 0.7338 - val_recall_2: 0.5872\n",
      "Epoch 45/100\n",
      "23056/23056 [==============================] - 2s 68us/step - loss: 0.3476 - accuracy: 0.8470 - precision_2: 0.7339 - recall_2: 0.5871 - val_loss: 0.3413 - val_accuracy: 0.8493 - val_precision_2: 0.7340 - val_recall_2: 0.5872\n",
      "Epoch 46/100\n",
      "23056/23056 [==============================] - 2s 67us/step - loss: 0.3479 - accuracy: 0.8467 - precision_2: 0.7341 - recall_2: 0.5873 - val_loss: 0.3465 - val_accuracy: 0.8462 - val_precision_2: 0.7342 - val_recall_2: 0.5872\n",
      "Epoch 47/100\n",
      "23056/23056 [==============================] - 2s 68us/step - loss: 0.3473 - accuracy: 0.8455 - precision_2: 0.7342 - recall_2: 0.5872 - val_loss: 0.3435 - val_accuracy: 0.8493 - val_precision_2: 0.7342 - val_recall_2: 0.5872\n",
      "Epoch 48/100\n",
      "23056/23056 [==============================] - 2s 69us/step - loss: 0.3479 - accuracy: 0.8465 - precision_2: 0.7342 - recall_2: 0.5874 - val_loss: 0.3411 - val_accuracy: 0.8470 - val_precision_2: 0.7342 - val_recall_2: 0.5875\n",
      "Epoch 49/100\n",
      "23056/23056 [==============================] - 2s 67us/step - loss: 0.3465 - accuracy: 0.8470 - precision_2: 0.7342 - recall_2: 0.5876 - val_loss: 0.3421 - val_accuracy: 0.8447 - val_precision_2: 0.7343 - val_recall_2: 0.5877\n",
      "Epoch 50/100\n",
      "23056/23056 [==============================] - 2s 67us/step - loss: 0.3457 - accuracy: 0.8465 - precision_2: 0.7343 - recall_2: 0.5877 - val_loss: 0.3434 - val_accuracy: 0.8497 - val_precision_2: 0.7343 - val_recall_2: 0.5878\n",
      "Epoch 51/100\n",
      "23056/23056 [==============================] - 1s 64us/step - loss: 0.3470 - accuracy: 0.8463 - precision_2: 0.7344 - recall_2: 0.5878 - val_loss: 0.3406 - val_accuracy: 0.8454 - val_precision_2: 0.7344 - val_recall_2: 0.5878\n",
      "Epoch 52/100\n",
      "23056/23056 [==============================] - 2s 70us/step - loss: 0.3463 - accuracy: 0.8460 - precision_2: 0.7345 - recall_2: 0.5878 - val_loss: 0.3411 - val_accuracy: 0.8497 - val_precision_2: 0.7345 - val_recall_2: 0.5878\n",
      "Epoch 53/100\n",
      "23056/23056 [==============================] - 2s 70us/step - loss: 0.3462 - accuracy: 0.8450 - precision_2: 0.7345 - recall_2: 0.5879 - val_loss: 0.3418 - val_accuracy: 0.8458 - val_precision_2: 0.7345 - val_recall_2: 0.5879\n",
      "Epoch 54/100\n",
      "23056/23056 [==============================] - 2s 67us/step - loss: 0.3460 - accuracy: 0.8464 - precision_2: 0.7345 - recall_2: 0.5879 - val_loss: 0.3414 - val_accuracy: 0.8474 - val_precision_2: 0.7345 - val_recall_2: 0.5880\n",
      "Epoch 55/100\n",
      "23056/23056 [==============================] - 2s 69us/step - loss: 0.3448 - accuracy: 0.8469 - precision_2: 0.7345 - recall_2: 0.5879 - val_loss: 0.3467 - val_accuracy: 0.8482 - val_precision_2: 0.7346 - val_recall_2: 0.5881\n",
      "Epoch 56/100\n",
      "23056/23056 [==============================] - 2s 69us/step - loss: 0.3480 - accuracy: 0.8448 - precision_2: 0.7345 - recall_2: 0.5882 - val_loss: 0.3396 - val_accuracy: 0.8528 - val_precision_2: 0.7345 - val_recall_2: 0.5882\n",
      "Epoch 57/100\n",
      "23056/23056 [==============================] - 2s 68us/step - loss: 0.3459 - accuracy: 0.8471 - precision_2: 0.7346 - recall_2: 0.5883 - val_loss: 0.3460 - val_accuracy: 0.8486 - val_precision_2: 0.7346 - val_recall_2: 0.5884\n",
      "Epoch 58/100\n",
      "23056/23056 [==============================] - 1s 64us/step - loss: 0.3458 - accuracy: 0.8475 - precision_2: 0.7346 - recall_2: 0.5885 - val_loss: 0.3396 - val_accuracy: 0.8482 - val_precision_2: 0.7347 - val_recall_2: 0.5885\n",
      "Epoch 59/100\n",
      "23056/23056 [==============================] - 2s 65us/step - loss: 0.3448 - accuracy: 0.8466 - precision_2: 0.7347 - recall_2: 0.5886 - val_loss: 0.3522 - val_accuracy: 0.8415 - val_precision_2: 0.7347 - val_recall_2: 0.5887\n",
      "Epoch 60/100\n",
      "23056/23056 [==============================] - 1s 63us/step - loss: 0.3480 - accuracy: 0.8450 - precision_2: 0.7346 - recall_2: 0.5888 - val_loss: 0.3394 - val_accuracy: 0.8486 - val_precision_2: 0.7346 - val_recall_2: 0.5888\n",
      "Epoch 61/100\n",
      "23056/23056 [==============================] - 2s 66us/step - loss: 0.3441 - accuracy: 0.8483 - precision_2: 0.7346 - recall_2: 0.5889 - val_loss: 0.3393 - val_accuracy: 0.8470 - val_precision_2: 0.7347 - val_recall_2: 0.5889\n",
      "Epoch 62/100\n",
      "23056/23056 [==============================] - 2s 65us/step - loss: 0.3457 - accuracy: 0.8462 - precision_2: 0.7347 - recall_2: 0.5890 - val_loss: 0.3399 - val_accuracy: 0.8521 - val_precision_2: 0.7347 - val_recall_2: 0.5890\n",
      "Epoch 63/100\n",
      "23056/23056 [==============================] - 2s 70us/step - loss: 0.3434 - accuracy: 0.8472 - precision_2: 0.7348 - recall_2: 0.5891 - val_loss: 0.3400 - val_accuracy: 0.8474 - val_precision_2: 0.7348 - val_recall_2: 0.5892\n",
      "Epoch 64/100\n",
      "23056/23056 [==============================] - 2s 66us/step - loss: 0.3445 - accuracy: 0.8455 - precision_2: 0.7348 - recall_2: 0.5892 - val_loss: 0.3405 - val_accuracy: 0.8497 - val_precision_2: 0.7348 - val_recall_2: 0.5892\n",
      "Epoch 65/100\n",
      "23056/23056 [==============================] - 1s 65us/step - loss: 0.3452 - accuracy: 0.8446 - precision_2: 0.7348 - recall_2: 0.5893 - val_loss: 0.3448 - val_accuracy: 0.8474 - val_precision_2: 0.7347 - val_recall_2: 0.5893\n",
      "Epoch 66/100\n",
      "23056/23056 [==============================] - 1s 62us/step - loss: 0.3463 - accuracy: 0.8473 - precision_2: 0.7347 - recall_2: 0.5894 - val_loss: 0.3394 - val_accuracy: 0.8509 - val_precision_2: 0.7347 - val_recall_2: 0.5895\n"
     ]
    },
    {
     "data": {
      "text/plain": [
       "<keras.callbacks.callbacks.History at 0x7fe448103550>"
      ]
     },
     "execution_count": 17,
     "metadata": {},
     "output_type": "execute_result"
    }
   ],
   "source": [
    "model_lecun_selu.fit(X_train, y_train,  \n",
    "           validation_split=0.1,\n",
    "           batch_size=64, \n",
    "           epochs=100, \n",
    "           callbacks=[early_stopping, history_lecun_selu])"
   ]
  },
  {
   "cell_type": "code",
   "execution_count": 18,
   "metadata": {},
   "outputs": [
    {
     "data": {
      "image/png": "[encoded data removed]",
      "text/plain": [
       "<Figure size 1080x360 with 2 Axes>"
      ]
     },
     "metadata": {
      "needs_background": "light"
     },
     "output_type": "display_data"
    },
    {
     "name": "stdout",
     "output_type": "stream",
     "text": [
      "Evaluation on test\n",
      "4521/4521 [==============================] - 0s 43us/step\n",
      "loss: 0.3306094600\n",
      "accuracy: 0.8471577168\n",
      "precision_2: 0.7347612381\n",
      "recall_2: 0.5895260572\n"
     ]
    }
   ],
   "source": [
    "plot_learn_curves(history_lecun_selu, model_lecun_selu.metrics_names)\n",
    "eval_model(model_lecun_selu)"
   ]
  },
  {
   "cell_type": "code",
   "execution_count": 19,
   "metadata": {},
   "outputs": [
    {
     "name": "stdout",
     "output_type": "stream",
     "text": [
      "Model: \"sequential_4\"\n",
      "_________________________________________________________________\n",
      "Layer (type)                 Output Shape              Param #   \n",
      "=================================================================\n",
      "dense_10 (Dense)             (None, 64)                5120      \n",
      "_________________________________________________________________\n",
      "batch_normalization_3 (Batch (None, 64)                256       \n",
      "_________________________________________________________________\n",
      "activation_3 (Activation)    (None, 64)                0         \n",
      "_________________________________________________________________\n",
      "dropout_5 (Dropout)          (None, 64)                0         \n",
      "_________________________________________________________________\n",
      "dense_11 (Dense)             (None, 32)                2048      \n",
      "_________________________________________________________________\n",
      "batch_normalization_4 (Batch (None, 32)                128       \n",
      "_________________________________________________________________\n",
      "activation_4 (Activation)    (None, 32)                0         \n",
      "_________________________________________________________________\n",
      "dropout_6 (Dropout)          (None, 32)                0         \n",
      "_________________________________________________________________\n",
      "dense_12 (Dense)             (None, 1)                 33        \n",
      "=================================================================\n",
      "Total params: 7,585\n",
      "Trainable params: 7,393\n",
      "Non-trainable params: 192\n",
      "_________________________________________________________________\n"
     ]
    }
   ],
   "source": [
    "history_lr_schedule = History()\n",
    "\n",
    "model_lr_schedule = Sequential([\n",
    "    InputLayer(input_shape=(X_train.shape[1:])),\n",
    "    Dense(64, use_bias=False, kernel_initializer=\"he_normal\"),\n",
    "    BatchNormalization(),\n",
    "    Activation('elu'),\n",
    "    Dropout(0.2),\n",
    "    Dense(32, use_bias=False, kernel_initializer=\"he_normal\"),\n",
    "    BatchNormalization(),\n",
    "    Activation('sigmoid'),\n",
    "    Dropout(0.1),\n",
    "    Dense(1, activation='sigmoid')\n",
    "])\n",
    "model_lr_schedule.summary()\n",
    "\n",
    "lr_schedule = keras.optimizers.schedules.ExponentialDecay(\n",
    "    initial_learning_rate=0.01,\n",
    "    decay_steps=1000,\n",
    "    decay_rate=0.9,\n",
    ")\n",
    "\n",
    "Adam = keras.optimizers.Adam(learning_rate=lr_schedule, beta_1=0.08, beta_2=0.92, amsgrad=True)\n",
    "\n",
    "model_lr_schedule.compile(loss='binary_crossentropy', optimizer=Adam, metrics=[\"accuracy\", Precision(), Recall()])"
   ]
  },
  {
   "cell_type": "code",
   "execution_count": 20,
   "metadata": {},
   "outputs": [
    {
     "name": "stdout",
     "output_type": "stream",
     "text": [
      "Train on 23056 samples, validate on 2562 samples\n",
      "Epoch 1/100\n",
      "23056/23056 [==============================] - 1s 61us/step - loss: 0.3701 - accuracy: 0.8243 - precision_3: 0.6422 - recall_3: 0.4911 - val_loss: 0.3616 - val_accuracy: 0.8404 - val_precision_3: 0.6742 - val_recall_3: 0.5742\n",
      "Epoch 2/100\n",
      "23056/23056 [==============================] - 1s 38us/step - loss: 0.3477 - accuracy: 0.8365 - precision_3: 0.6804 - recall_3: 0.5903 - val_loss: 0.3492 - val_accuracy: 0.8376 - val_precision_3: 0.6824 - val_recall_3: 0.5986\n",
      "Epoch 3/100\n",
      "23056/23056 [==============================] - 1s 37us/step - loss: 0.3420 - accuracy: 0.8401 - precision_3: 0.6843 - recall_3: 0.6053 - val_loss: 0.3302 - val_accuracy: 0.8544 - val_precision_3: 0.6883 - val_recall_3: 0.6085\n",
      "Epoch 4/100\n",
      "23056/23056 [==============================] - 1s 37us/step - loss: 0.3366 - accuracy: 0.8413 - precision_3: 0.6905 - recall_3: 0.6107 - val_loss: 0.3282 - val_accuracy: 0.8517 - val_precision_3: 0.6927 - val_recall_3: 0.6130\n",
      "Epoch 5/100\n",
      "23056/23056 [==============================] - 1s 37us/step - loss: 0.3344 - accuracy: 0.8434 - precision_3: 0.6941 - recall_3: 0.6154 - val_loss: 0.3376 - val_accuracy: 0.8478 - val_precision_3: 0.6962 - val_recall_3: 0.6156\n",
      "Epoch 6/100\n",
      "23056/23056 [==============================] - 1s 43us/step - loss: 0.3315 - accuracy: 0.8425 - precision_3: 0.6980 - recall_3: 0.6161 - val_loss: 0.3346 - val_accuracy: 0.8466 - val_precision_3: 0.6993 - val_recall_3: 0.6150\n",
      "Epoch 7/100\n",
      "23056/23056 [==============================] - 1s 39us/step - loss: 0.3270 - accuracy: 0.8475 - precision_3: 0.7013 - recall_3: 0.6155 - val_loss: 0.3276 - val_accuracy: 0.8525 - val_precision_3: 0.7028 - val_recall_3: 0.6163\n",
      "Epoch 8/100\n",
      "23056/23056 [==============================] - 1s 42us/step - loss: 0.3253 - accuracy: 0.8497 - precision_3: 0.7051 - recall_3: 0.6173 - val_loss: 0.3376 - val_accuracy: 0.8372 - val_precision_3: 0.7056 - val_recall_3: 0.6182\n",
      "Epoch 9/100\n",
      "23056/23056 [==============================] - 1s 42us/step - loss: 0.3272 - accuracy: 0.8478 - precision_3: 0.7061 - recall_3: 0.6193 - val_loss: 0.3214 - val_accuracy: 0.8560 - val_precision_3: 0.7073 - val_recall_3: 0.6196\n",
      "Epoch 10/100\n",
      "23056/23056 [==============================] - 1s 39us/step - loss: 0.3235 - accuracy: 0.8486 - precision_3: 0.7084 - recall_3: 0.6201 - val_loss: 0.3256 - val_accuracy: 0.8474 - val_precision_3: 0.7090 - val_recall_3: 0.6210\n",
      "Epoch 11/100\n",
      "23056/23056 [==============================] - 1s 37us/step - loss: 0.3245 - accuracy: 0.8470 - precision_3: 0.7091 - recall_3: 0.6216 - val_loss: 0.3217 - val_accuracy: 0.8552 - val_precision_3: 0.7097 - val_recall_3: 0.6223\n",
      "Epoch 12/100\n",
      "23056/23056 [==============================] - 1s 40us/step - loss: 0.3225 - accuracy: 0.8495 - precision_3: 0.7103 - recall_3: 0.6226 - val_loss: 0.3185 - val_accuracy: 0.8517 - val_precision_3: 0.7111 - val_recall_3: 0.6233\n",
      "Epoch 13/100\n",
      "23056/23056 [==============================] - 1s 38us/step - loss: 0.3216 - accuracy: 0.8508 - precision_3: 0.7118 - recall_3: 0.6237 - val_loss: 0.3199 - val_accuracy: 0.8603 - val_precision_3: 0.7126 - val_recall_3: 0.6243\n",
      "Epoch 14/100\n",
      "23056/23056 [==============================] - 1s 38us/step - loss: 0.3211 - accuracy: 0.8506 - precision_3: 0.7134 - recall_3: 0.6250 - val_loss: 0.3207 - val_accuracy: 0.8560 - val_precision_3: 0.7140 - val_recall_3: 0.6246\n",
      "Epoch 15/100\n",
      "23056/23056 [==============================] - 1s 41us/step - loss: 0.3176 - accuracy: 0.8511 - precision_3: 0.7149 - recall_3: 0.6249 - val_loss: 0.3263 - val_accuracy: 0.8536 - val_precision_3: 0.7155 - val_recall_3: 0.6248\n",
      "Epoch 16/100\n",
      "23056/23056 [==============================] - 1s 54us/step - loss: 0.3192 - accuracy: 0.8522 - precision_3: 0.7162 - recall_3: 0.6247 - val_loss: 0.3253 - val_accuracy: 0.8439 - val_precision_3: 0.7166 - val_recall_3: 0.6254\n",
      "Epoch 17/100\n",
      "23056/23056 [==============================] - 1s 59us/step - loss: 0.3188 - accuracy: 0.8514 - precision_3: 0.7169 - recall_3: 0.6257 - val_loss: 0.3198 - val_accuracy: 0.8599 - val_precision_3: 0.7174 - val_recall_3: 0.6260\n"
     ]
    },
    {
     "data": {
      "text/plain": [
       "<keras.callbacks.callbacks.History at 0x7fe44812b5e0>"
      ]
     },
     "execution_count": 20,
     "metadata": {},
     "output_type": "execute_result"
    }
   ],
   "source": [
    "early_stopping = EarlyStopping(monitor='val_loss', patience=5, mode='min', verbose=0)\n",
    "\n",
    "model_lr_schedule.fit(X_train, y_train,  \n",
    "           validation_split=0.1,\n",
    "           batch_size=128, \n",
    "           epochs=100, \n",
    "           callbacks=[early_stopping, history_lr_schedule])"
   ]
  },
  {
   "cell_type": "code",
   "execution_count": 21,
   "metadata": {},
   "outputs": [
    {
     "data": {
      "image/png": "[encoded data removed]",
      "text/plain": [
       "<Figure size 1080x360 with 2 Axes>"
      ]
     },
     "metadata": {
      "needs_background": "light"
     },
     "output_type": "display_data"
    },
    {
     "name": "stdout",
     "output_type": "stream",
     "text": [
      "Evaluation on test\n",
      "4521/4521 [==============================] - 0s 81us/step\n",
      "loss: 0.3171340948\n",
      "accuracy: 0.8502543569\n",
      "precision_3: 0.7179220915\n",
      "recall_3: 0.6256644726\n"
     ]
    }
   ],
   "source": [
    "plot_learn_curves(history_lr_schedule, model_lr_schedule.metrics_names)\n",
    "eval_model(model_lr_schedule)"
   ]
  },
  {
   "cell_type": "code",
   "execution_count": 22,
   "metadata": {},
   "outputs": [
    {
     "name": "stdout",
     "output_type": "stream",
     "text": [
      "4521/4521 [==============================] - 0s 76us/step\n",
      "4521/4521 [==============================] - 0s 91us/step\n",
      "4521/4521 [==============================] - 0s 98us/step\n",
      "4521/4521 [==============================] - 0s 94us/step\n"
     ]
    }
   ],
   "source": [
    "models = []\n",
    "models.append(('simple model', model_simple))\n",
    "models.append(('model he elu', model_he_elu))\n",
    "models.append(('model lecun selu', model_lecun_selu))\n",
    "models.append(('model lr schedule', model_lr_schedule))\n",
    "\n",
    "\n",
    "model_accuracy, model_loss, model_name = [], [], [] \n",
    "model_precision, model_recall, model_f1_score = [], [], []\n",
    "        \n",
    "\n",
    "for name, model in models:\n",
    "    loss, acc, precision, recall = model.evaluate(X_test, y_test)\n",
    "    f1_score = 2*precision*recall/(precision+recall)\n",
    "    \n",
    "    model_name.append(name)\n",
    "    model_precision.append(precision)\n",
    "    model_recall.append(recall)\n",
    "    model_f1_score.append(f1_score)\n",
    "    model_accuracy.append(acc)\n",
    "    model_loss.append(loss)\n",
    "    "
   ]
  },
  {
   "cell_type": "code",
   "execution_count": 23,
   "metadata": {},
   "outputs": [
    {
     "data": {
      "text/html": [
       "<div>\n",
       "<style scoped>\n",
       "    .dataframe tbody tr th:only-of-type {\n",
       "        vertical-align: middle;\n",
       "    }\n",
       "\n",
       "    .dataframe tbody tr th {\n",
       "        vertical-align: top;\n",
       "    }\n",
       "\n",
       "    .dataframe thead th {\n",
       "        text-align: right;\n",
       "    }\n",
       "</style>\n",
       "<table border=\"1\" class=\"dataframe\">\n",
       "  <thead>\n",
       "    <tr style=\"text-align: right;\">\n",
       "      <th></th>\n",
       "      <th>model</th>\n",
       "      <th>precision</th>\n",
       "      <th>recall</th>\n",
       "      <th>f1_score</th>\n",
       "      <th>loss</th>\n",
       "      <th>accuracy_score</th>\n",
       "    </tr>\n",
       "  </thead>\n",
       "  <tbody>\n",
       "    <tr>\n",
       "      <th>0</th>\n",
       "      <td>simple model</td>\n",
       "      <td>0.714317</td>\n",
       "      <td>0.603884</td>\n",
       "      <td>0.654474</td>\n",
       "      <td>0.322164</td>\n",
       "      <td>0.849370</td>\n",
       "    </tr>\n",
       "    <tr>\n",
       "      <th>1</th>\n",
       "      <td>model he elu</td>\n",
       "      <td>0.713865</td>\n",
       "      <td>0.627221</td>\n",
       "      <td>0.667744</td>\n",
       "      <td>0.314910</td>\n",
       "      <td>0.854457</td>\n",
       "    </tr>\n",
       "    <tr>\n",
       "      <th>2</th>\n",
       "      <td>model lecun selu</td>\n",
       "      <td>0.734785</td>\n",
       "      <td>0.589577</td>\n",
       "      <td>0.654220</td>\n",
       "      <td>0.330609</td>\n",
       "      <td>0.847158</td>\n",
       "    </tr>\n",
       "    <tr>\n",
       "      <th>3</th>\n",
       "      <td>model lr schedule</td>\n",
       "      <td>0.718450</td>\n",
       "      <td>0.625134</td>\n",
       "      <td>0.668552</td>\n",
       "      <td>0.317134</td>\n",
       "      <td>0.850254</td>\n",
       "    </tr>\n",
       "  </tbody>\n",
       "</table>\n",
       "</div>"
      ],
      "text/plain": [
       "               model  precision    recall  f1_score      loss  accuracy_score\n",
       "0       simple model   0.714317  0.603884  0.654474  0.322164        0.849370\n",
       "1       model he elu   0.713865  0.627221  0.667744  0.314910        0.854457\n",
       "2   model lecun selu   0.734785  0.589577  0.654220  0.330609        0.847158\n",
       "3  model lr schedule   0.718450  0.625134  0.668552  0.317134        0.850254"
      ]
     },
     "execution_count": 23,
     "metadata": {},
     "output_type": "execute_result"
    }
   ],
   "source": [
    "d = {\n",
    "    'model': model_name,\n",
    "    'precision': model_precision,\n",
    "    'recall': model_recall,\n",
    "    'f1_score': model_f1_score,\n",
    "    'loss': model_loss,\n",
    "    'accuracy_score' : model_accuracy,\n",
    "    }\n",
    "df = pd.DataFrame(data=d)\n",
    "df"
   ]
  },
  {
   "cell_type": "code",
   "execution_count": null,
   "metadata": {},
   "outputs": [],
   "source": []
  }
 ],
 "metadata": {
  "kernelspec": {
   "display_name": "Python 3",
   "language": "python",
   "name": "python3"
  },
  "language_info": {
   "codemirror_mode": {
    "name": "ipython",
    "version": 3
   },
   "file_extension": ".py",
   "mimetype": "text/x-python",
   "name": "python",
   "nbconvert_exporter": "python",
   "pygments_lexer": "ipython3",
   "version": "3.8.2"
  }
 },
 "nbformat": 4,
 "nbformat_minor": 4
}
